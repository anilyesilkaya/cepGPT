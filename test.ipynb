{
 "cells": [
  {
   "cell_type": "markdown",
   "id": "2d7890e4-43c5-4178-a51f-0607978b10ed",
   "metadata": {},
   "source": [
    "This equation renders with number 1 numbering on side:\n",
    "\n",
    "\\begin{equation*}\n",
    "\\mathbf{r} \\equiv \\begin{bmatrix}\n",
    "y \\\\\n",
    "\\theta\n",
    "\\end{bmatrix}\n",
    "\\label{eq:vector_ray} \\tag{1}\n",
    "\\end{equation*}\n",
    "\n",
    "More text"
   ]
  },
  {
   "cell_type": "markdown",
   "id": "ca6d435a-9d1a-47b3-b205-8a51aa2ed504",
   "metadata": {},
   "source": [
    "This equation renders with number 1 numbering on side:\n",
    "\n",
    "\\begin{equation*}\n",
    "\\mathbf{r} \\equiv \\begin{bmatrix}\n",
    "y \\\\\n",
    "\\theta\n",
    "\\end{bmatrix}\n",
    "\\label{eq:vector_ray2} \\tag{2}\n",
    "\\end{equation*}\n",
    "mMore text"
   ]
  },
  {
   "cell_type": "code",
   "execution_count": null,
   "id": "6857ad32-85a7-43a4-97e2-7c7cc167f490",
   "metadata": {},
   "outputs": [],
   "source": []
  }
 ],
 "metadata": {
  "kernelspec": {
   "display_name": "llm",
   "language": "python",
   "name": "llm"
  },
  "language_info": {
   "codemirror_mode": {
    "name": "ipython",
    "version": 3
   },
   "file_extension": ".py",
   "mimetype": "text/x-python",
   "name": "python",
   "nbconvert_exporter": "python",
   "pygments_lexer": "ipython3",
   "version": "3.10.4"
  }
 },
 "nbformat": 4,
 "nbformat_minor": 5
}
