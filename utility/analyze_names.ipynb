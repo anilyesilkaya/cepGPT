{
 "cells": [
  {
   "cell_type": "code",
   "execution_count": 103,
   "id": "973ed1da",
   "metadata": {},
   "outputs": [],
   "source": [
    "import re"
   ]
  },
  {
   "cell_type": "code",
   "execution_count": 104,
   "id": "fbae92a7",
   "metadata": {},
   "outputs": [],
   "source": [
    "# Load names\n",
    "with open('tr_isimler.txt', 'r', encoding='utf-8') as file:\n",
    "    text = file.read()\n",
    "proc_text = re.split(r'\\n', text)\n",
    "proc_text = [t for t in proc_text if t]"
   ]
  },
  {
   "cell_type": "code",
   "execution_count": 105,
   "id": "5423b839",
   "metadata": {},
   "outputs": [
    {
     "data": {
      "text/plain": [
       "1144"
      ]
     },
     "execution_count": 105,
     "metadata": {},
     "output_type": "execute_result"
    }
   ],
   "source": [
    "len(proc_text)"
   ]
  },
  {
   "cell_type": "code",
   "execution_count": null,
   "id": "a76b1967",
   "metadata": {},
   "outputs": [],
   "source": []
  }
 ],
 "metadata": {
  "kernelspec": {
   "display_name": "my_env_llm",
   "language": "python",
   "name": "python3"
  },
  "language_info": {
   "codemirror_mode": {
    "name": "ipython",
    "version": 3
   },
   "file_extension": ".py",
   "mimetype": "text/x-python",
   "name": "python",
   "nbconvert_exporter": "python",
   "pygments_lexer": "ipython3",
   "version": "3.11.2"
  }
 },
 "nbformat": 4,
 "nbformat_minor": 5
}
