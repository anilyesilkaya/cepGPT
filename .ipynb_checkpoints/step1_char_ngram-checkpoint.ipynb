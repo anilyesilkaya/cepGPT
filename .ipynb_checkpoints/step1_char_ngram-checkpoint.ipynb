{
 "cells": [
  {
   "cell_type": "code",
   "execution_count": 5,
   "id": "75dddc17",
   "metadata": {},
   "outputs": [],
   "source": [
    "import matplotlib.pyplot as plt\n",
    "import numpy as np"
   ]
  },
  {
   "cell_type": "markdown",
   "id": "82a4f7ba",
   "metadata": {},
   "source": [
    "# Character level N-gram Language Model\n",
    "In the creation of this notebook I was heavily unfluenced by the following sources:\n",
    "\n",
    "[1] https://github.com/karpathy/makemore\n",
    "\n",
    "[2] https://github.com/rain1024/slp2-pdf"
   ]
  },
  {
   "cell_type": "markdown",
   "id": "34a5026b",
   "metadata": {},
   "source": [
    "## Brief Introduction\n",
    "Predicting in general is a difficult task. Especially trying to predict the next word, subword, character or in general a token (piece of text could be as small as a character and as big as the whole corpus). In daily life we have situations where we can predict what's coming next in a sentence...\n",
    "```\n",
    "Could you get some lemons from the ...?\n",
    "```\n",
    "Obviously, in the example above the possibilities are not infinite `[\"shops\", \"Tesco's, \"Some other shop name\", ...]`. How do we make that prediction in our heads? Even better question how can we come up with a system that could do those predictions for us? All those questions are related to the natural language processing (NLP) specically language models (LMs) are machine learning models that predicts the upcoming tokens.\n",
    "\n",
    "Why do we need to predict the next token?\n",
    "1. We can build systems where speech-to-text and text-to-speech could be implemented\n",
    "2. We can build systems where the typos and grammatical mistakes can easily be corrected.\n",
    "3. More importantly, as an inherent part of the language, predicting the next word/sentence/paragraph means the previous information has become a knowledge and accordingly the coherent communication still goes on.\n",
    "\n",
    "In this notebook we will be starting with the simplest kind of language model: the __n-gram__ language model.\n"
   ]
  },
  {
   "cell_type": "markdown",
   "id": "6ae16f61",
   "metadata": {},
   "source": [
    "## Character Level N-gram Language Models\n",
    "In this section we will both investigate the theoretical and practical implementation of the N-gram language models, which will be working in the character level meaning that our language model's goal will be to predict the __next character__ for the given sequence of text since this will be one of the easiest applications to learn the inner dynamics of language models.\n",
    "\n",
    "The name __gram__ comes from the Greek word grámma (γράμμα), meaning _something written_ or _a small unit_. An `N`-gram represents the sequence of characters i.e. 2-gram (or _bigram_) means 2 character sequence such as $(c_1,~ c_2)$. Similarly, 3-gram (or _trigram_) means 3 character sequence such as $(c_1,~c_2,~c_3)$. The term `N`-gram means that the model is probabilistic and that can estimate the new character based on the `N-1` previous characters $(c_1,~c_2,\\cdots,~c_{N-1})$.\n",
    "\n",
    "In general sense, our task of the prediction of the next chracter prediction can be represented as $P(c~|~h)$, where $c$ and $h$ represent the next character to be predicted and the history of the characters. For instance, we can try to predict the probability of the next character being `\"a\"` knowing that the previous character was `\"n\"` $P(\\text{\"a\"}~|~\\text{\"n\"})$.\n",
    "\n",
    "- One way to estimate the probability $P(\\text{\"a\"}~|~\\text{\"n\"})$ is directly from relative frequency counts, meaning a very large corpus, count the number of times the character `\"n\"` is followed by `\"a\"`. We can answer the question: out of times we saw the history $h$, how many times was it followed by the character $c$.\n",
    "\n",
    "- If we had a sufficiently large corpus, we could compute this count and estimate the probability. However, as the history grows, the number of possible contexts grows exponentially and we need increasingly more data to estimate the next character accurately and coherently, which is not an easy task. Hence, we need a more clever and efficient approach.\n",
    "\n",
    "Let's define some notation:\n",
    "\n",
    "Throughout this notebook we will use character as tokens. To represent the probability of a particular random variable $X_i$ taking the value `\"n\"` represented as $P(X_i = \\text{\"n\"}) = P(\\text{\"n\"})$.\n",
    "\n",
    "We will represent the sequence of $n$ characters $(c_1,~c_2,~\\cdots,~c_n)$ will be represented by the notation $(c_{1:n})$. Note that the order of the elements in this notation is important.\n",
    "\n",
    "Also, the joint probability of each chracter in a sequence having a particular value $P(X_1 = c_1,~X_2=c_2,~\\cdots,~X_n=c_n)$ will be represented by $P(c_{1:n})$."
   ]
  },
  {
   "cell_type": "markdown",
   "id": "263ea4f7",
   "metadata": {},
   "source": [
    "### Calculating the Probabilities of Entire Sequences\n",
    "How can we compute the probabilities of the entire sequences, $(c_1,~c_2,~\\cdots,~c_n)$, $P(c_1 \\cap c_2 \\cap \\cdots \\cap c_n)$? The simplest thing we can do to use the **Bayes' theorem** to recursively calculate the joint probabilities. Bayes' theorem for drawing a single card from deck example could be applied to as follows:\n",
    "\\begin{equation*}\n",
    "P(\\text{Ace} \\cap \\text{black}) = \\frac{P(\\text{drawing a black Ace})}{P(\\text{drawing a black card})} = \\frac{P(\\text{Ace} \\cap \\text{black})}{P(\\text{black})}\n",
    "\\label{eq:1} \\tag{1}\n",
    "\\end{equation*}\n",
    "\n",
    "<p align=\"left\">\n",
    "  <img src=\"images/bayes_theorem.png\" alt=\"Bayes' theorem\" width=\"450\"/>\n",
    "</p>\n",
    "\n",
    "#### Simple/Intuitive Example\n",
    "Let's simplify the task and try to understand what's going on. Let's focus on how to calculate the same probability for 3 characters? What is the probability of the characters $(c_1,~c_2,~c_3)$ occuring sequentially?\n",
    "\\begin{equation*}\n",
    "P(\\text{the sequence} ~(c_1,~c_2,~c_3)~ \\text{occurring in this order}) = P(c_1\\cap c_2 \\cap c_3) = ~?\n",
    "\\label{eq:2} \\tag{2}\n",
    "\\end{equation*}\n",
    "\n",
    "We already know that we can use Bayes' theorem to express the joint probability of $(c_1,~c_2,~c_3)$ occuring in terms of the probability that the character $c_3$ appearing after the sequence $(c_1,~c_2)$\n",
    "\\begin{equation*}\n",
    "P(c_3~|~ c_1 \\cap c_2) = \\frac{P(c_1\\cap c_2\\cap c_3)}{P(c_1 \\cap c_2)} \\quad \\text{or}\\quad P(c_1\\cap c_2\\cap c_3) = P(c_3~|~ c_1 \\cap c_2)\\times P(c_1 \\cap c_2)\n",
    "\\label{eq:3} \\tag{3}\n",
    "\\end{equation*}\n",
    "\n",
    "Similarly, we can ask what is the probability of the character $c_2$ occuring after $c_1$?\n",
    "\\begin{equation*}\n",
    "P(c_2~|~c_1) = \\frac{P(c_2 \\cap c_1)}{P(c_1)} \\quad \\text{or}\\quad P(c_2 \\cap c_1) = P(c_2~|~c_1)\\times P(c_1)\n",
    "\\label{eq:4} \\tag{4}\n",
    "\\end{equation*}\n",
    "\n",
    "If we combine the expressions $\\eqref{eq:2}$, $\\eqref{eq:3}$ and $\\eqref{eq:4}$,\n",
    "\\begin{equation*}\n",
    "P(c_1\\cap c_2 \\cap c_3) = P(c_3~|~ c_1 \\cap c_2)\\times P(c_2~|~c_1)\\times P(c_1)\n",
    "\\label{eq:5} \\tag{5}\n",
    "\\end{equation*}"
   ]
  },
  {
   "cell_type": "markdown",
   "id": "0d78207d",
   "metadata": {},
   "source": [
    "Let's expand the same example into a case where we would like to calculate the probability of $(c_1,~c_2,~c_3,~c_4)$ exactly in the given order:\n",
    "\n",
    "\\begin{align*}\n",
    "\\text{Step 1:}\\quad &P(c_1\\cap c_2 \\cap c_3 \\cap c_4) = P(c_4~|~ c_1 \\cap c_2 \\cap c_3)\\times P(c_1 \\cap c_2 \\cap c_3),\\\\\n",
    "\\text{Step 2:}\\quad &P(c_1 \\cap c_2 \\cap c_3) = P(c_3~|~ c_1 \\cap c_2)\\times P(c_1 \\cap c_2),\\\\\n",
    "\\text{Step 3:}\\quad &P(c_1 \\cap c_2) = P(c_2~|~ c_1)\\times P(c_1)\n",
    "\\end{align*}\n",
    "\n",
    "Now, if we combine all the steps together\n",
    "\n",
    "\\begin{align*}\n",
    "&P(c_1\\cap c_2 \\cap c_3 \\cap c_4) = P(c_4~|~ c_1 \\cap c_2 \\cap c_3)\\times P(c_3~|~ c_1 \\cap c_2)\\times P(c_2~|~ c_1)\\times P(c_1)\n",
    "\\label{eq:6} \\tag{6}\n",
    "\\end{align*}\n",
    "\n",
    "As can be seen from above there is a nice pattern, which can be simplified as,\n",
    "\n",
    "\\begin{equation*}\n",
    "P(c_1,~c_2,~\\cdots,~c_n) = \\prod_{k=1}^{n} P(c_k~|~ c_{1:k-1})\n",
    "\\label{eq:7} \\tag{7}\n",
    "\\end{equation*}\n",
    "\n",
    "The above expression gives us the link between the joint probabilty of a particular sequence and computing the conditional probability of the next character given previous characters."
   ]
  },
  {
   "cell_type": "markdown",
   "id": "e5b59fbc",
   "metadata": {},
   "source": [
    "- Please note from the above expression that the we can calculate the probability of a particular sequence occuring, $P(c_1,~c_2,~\\cdots,~,c_n)$ as long as if we can calculate the conditional probability, $P(c_k~|~ c_{1:k-1})$ for each $k$. Unfortunately, we don't have any way to calculate the expression $P(c_k~|~ c_{1:k-1})$.\n",
    "\n",
    "- As an additional note we can't just count the number of occurences of each character sequence with varying length since the number of possible combinations for a character sequence with lengh $N$ ($N$-gram) becomes $30^N$, since we will see shortly that we have $30$ characters in our Turkish names prediction alphabet, which becomes infeasible too quickly due to the highly exponential nature. Moreover, some particular sequences might have not been occured in the training corpus before!"
   ]
  },
  {
   "cell_type": "code",
   "execution_count": 6,
   "id": "03786f94",
   "metadata": {},
   "outputs": [
    {
     "data": {
      "image/png": "[encoded data removed]",
      "text/plain": [
       "<Figure size 500x400 with 1 Axes>"
      ]
     },
     "metadata": {},
     "output_type": "display_data"
    }
   ],
   "source": [
    "N = np.arange(0, 10)\n",
    "fig = plt.figure(figsize=(5, 4))\n",
    "plt.plot(N, 30**N)\n",
    "plt.xlabel(\"N\")\n",
    "plt.ylabel(\"$30^{N}$\")\n",
    "plt.grid(True, alpha=0.2)\n",
    "plt.show()"
   ]
  },
  {
   "cell_type": "markdown",
   "id": "f0848264",
   "metadata": {},
   "source": [
    "### The Markov Assumption\n",
    "The intiutiton of an $N$-gram model is that instead of computing the probability of the next character being, $c$, given its entire history, $h$, we can **approximate** the history by using just a few last characters. In other words, instead of solving the following:\n",
    "\n",
    "\\begin{equation*}\n",
    "P(c_1,~c_2,~\\cdots,~c_n) = \\prod_{k=1}^{n} P(c_k~|~ c_{1:k-1})\n",
    "\\label{eq:8} \\tag{8}\n",
    "\\end{equation*}"
   ]
  },
  {
   "cell_type": "markdown",
   "id": "4098986a",
   "metadata": {},
   "source": [
    "#### Bigram Model\n",
    "We can try to make the following approximation:\n",
    "\n",
    "\\begin{equation*}\n",
    "P(c_1,~c_2,~\\cdots,~c_n) = \\prod_{k=1}^{n} P(c_k~|~ c_{k-1})\n",
    "\\label{eq:9} \\tag{9}\n",
    "\\end{equation*}\n",
    "\n",
    "In other words, we can approximate the probability $P(c_k~|~ c_{1:k-1})$, which is really hard to compute we can just use $P(c_k~|~ c_{k-1})$, where we know that we can calculate $P(c_k~|~ c_{k-1})$ much easier by just counting the bigrams ($N=2$) in the corpus.\n",
    "\n",
    "#### Unigram Model\n",
    "We can go one more notch further and assume that no history is involved in our decisions,\n",
    "\\begin{equation*}\n",
    "P(c_1,~c_2,~\\cdots,~c_n) = \\prod_{k=1}^{n} P(c_k)\n",
    "\\label{eq:10} \\tag{10}\n",
    "\\end{equation*}\n",
    "\n",
    "#### Simple Example\n",
    "**Markov assumption** or **Markov property** can be explained with the following example:\n",
    "\n",
    "Assume we have a jar contains two red (2xR) and one a green (G) ball.\n",
    "<p align=\"left\">\n",
    "  <img src=\"images/markov_assumption.png\" alt=\"Bayes' theorem\" width=\"250\"/>\n",
    "</p>\n",
    "\n",
    "- One ball was drawn yesterday.\n",
    "- One ball was drawn today.\n",
    "- The final ball will be drawn tomorrow. All the draws are **without replacement**.\n",
    "\n",
    "Suppose you know that today's ballwas **red**, but yout have no information about yesterday's ball. What can we infer about the tomorrow's ball $P(\\text{drawing } R \\text{ tomorrow})$?\n",
    "| Today | Tomorrow     |\n",
    "|-------|--------------|\n",
    "|   R   | $P(R) = 0.5$ |\n",
    "|   G   | $P(R) = 1$   |\n",
    "\n",
    "If we knew what has been drawn yesterday, how would $P(\\text{drawing } R \\text{ tomorrow})$ change?\n",
    "\n",
    "| Yesterday   | Today | Tomorrow    |\n",
    "|-------------|-------|-------------|\n",
    "| If it was R |   R   | $P(R) = 0$  |\n",
    "| If it was R |   G   | $P(R) = 1$  |\n",
    "| If it was G |   R   | $P(R) = 1$  |\n",
    "\n",
    "The experiment above shows that the probability distribution for **tomorrow's color not only depends on the present value but is also information about the past**. The probability density function (pdf) is changing when we have more information about yesterdays draw. In order to understand underlying mathematics we will need to understand conditional probabilities.\n",
    "\n",
    "##### Bayes' Theorem\n",
    "Let's try to calculate the probability of drawing an ace and a card which is black:\n",
    "\n",
    "\\begin{align*}\n",
    "P(\\text{Ace}) &= \\frac{\\text{number of aces}}{\\text{number of cards}} = 4/52 = 1/13 \\\\ \\\\\n",
    "P(\\text{Black}) &= \\frac{\\text{number of blacks}}{\\text{number of cards}} =  13/52 = 1/4 \\\\ \\\\\n",
    "P(\\text{Black and Ace}) &= P(\\text{Ace and Black}) = \\frac{\\text{number of black Aces}}{\\text{number of cards}} = 1/52\n",
    "\\label{eq:11} \\tag{11}\n",
    "\\end{align*}"
   ]
  },
  {
   "cell_type": "markdown",
   "id": "869a00f8",
   "metadata": {},
   "source": [
    "How can we calculate the following probability? $P(\\text{Ace given that we already have a black card})$? \n",
    "\n",
    "Since we know that we have a black card:\n",
    "\\begin{equation*}\n",
    "P(\\text{Ace given we've drawn a black card}) = P(\\text{Ace}~|~\\text{black}) = \\frac{\\text{number of black aces}}{\\text{number of blacks}} = \\frac{1}{13}\n",
    "\\label{eq:12} \\tag{12}\n",
    "\\end{equation*}\n",
    "The above expression $(\\text{number of black aces})/(\\text{number of blacks})$ could also be calculated using $\\eqref{eq:12}$ as follows:\n",
    "\n",
    "\\begin{align*}\n",
    "P(\\text{Ace given we've drawn a black card}) = \\frac{\\text{number of black aces}}{\\text{number of blacks}} = \\frac{P(\\text{Black and Ace})\\times (\\text{number of cards})}{P(\\text{Black})\\times(\\text{number of cards})} = \\frac{P(\\text{Black and ace})}{P(\\text{Black})}\n",
    "\\end{align*}\n",
    "Thus,\n",
    "\\begin{align*}\n",
    "P(\\text{Ace}~|~\\text{Black}) = \\frac{P(\\text{Black and ace})}{P(\\text{Black})}\n",
    "\\label{eq:13} \\tag{13}\n",
    "\\end{align*}"
   ]
  },
  {
   "cell_type": "markdown",
   "id": "73bf4d0b-8eda-4c8e-a9d5-fe9e79f4120a",
   "metadata": {},
   "source": [
    "#### The Markov Property Continues\n",
    "Since we've learnt about the conditional probabilities and Bayes' theorem. We can continue investigating the Markov property and related probabilities.\n",
    "<p align=\"left\">\n",
    "  <img src=\"images/markov_assumption_2.png\" alt=\"Bayes' theorem\" width=\"350\"/>\n",
    "</p>\n",
    "We know that if the experiment was done with replacement, the probabilities would be equal for tomorrow's draw, where today's and yesterday's draws would be irrelevant. In other words, draws would be independent and Markov property would be satisfied.\n",
    "\\begin{align*}\n",
    "&P(G\\text{ tomorrow}) = 1/3\\\\\n",
    "&P(R\\text{ tomorrow}) = 1/3 + 1/3 = 2/3\n",
    "\\end{align*}\n",
    "\n",
    "However, when we have an experiment without replacement, draws are not independent and the Markov property is not getting satisfied. The above diagram summarizes the jar with three balls without replacement experiment. We can also express the probabilities using the conditional probabilities as follows:\n",
    "\\begin{align*}\n",
    "&P(R\\text{ tomorrow}~|~(R\\text{ yesterday},~R\\text{ today}) = 0\\\\\n",
    "&P(R\\text{ tomorrow}~|~(R\\text{ yesterday},~G\\text{ today})) = 1\\\\\n",
    "&P(R\\text{ tomorrow}~|~(G\\text{ yesterday},~R\\text{ today}) =1\\\\ \\\\\n",
    "&P(R\\text{ today}~|~R\\text{ yesterday}) = 1/2 \\\\\n",
    "&P(R\\text{ today}~|~G\\text{ yesterday}) = 1 \\\\ \\\\\n",
    "&P(R\\text{ tomorrow}) = 2/3 \\\\\n",
    "&P(G\\text{ tomorrow}) = 1/3\n",
    "\\end{align*}"
   ]
  },
  {
   "cell_type": "markdown",
   "id": "f3e579bd-0acc-4c4a-a6b9-3645f26ed90c",
   "metadata": {},
   "source": [
    "#### N-gram Model\n",
    "\n",
    "It is important to emphasize that even though the probability of some character sequence occuring is completely dependent on the whole _history_ for the simplification and approximation purposes we can assume that Markov property holds and only information we need is only $N-1$ steps in $N$-gram models. For instance, for a bigram model ($N=2$) with $n=5$ characters becomes, \n",
    "\\begin{align*}\n",
    "P(c_1,~c_2,~c_3,~c_4,~c_5) &= P\\big(c_5~|~(c_1,~c_2,~c_3,~c_4)\\big)\\times P\\big(c_4~|~(c_1,~c_2,~c_3)\\big)\\times P\\big(c_3~|~(c_1,~c_2)\\big)\\times P(c_2~|~c_1)\\times P(c_1) \\\\\n",
    "&\\approx P(c_5~|~c_4)\\times P(c_4~|~c_3)\\times P(c_3~|~c_2)\\times P(c_2~|~c_1)\\times P(c_1)\n",
    "\\label{eq:14} \\tag{14}\n",
    "\\end{align*}"
   ]
  },
  {
   "cell_type": "markdown",
   "id": "84a11939-f784-45d9-b192-2cb81c59506d",
   "metadata": {},
   "source": [
    "Let's do another example for $n=5$ and $N=3$,\n",
    "\\begin{align*}\n",
    "P(c_1,~c_2,~c_3,c_4,~c_5) \\approx P\\big(c_5~|~(c_3,~c_4)\\big)\\times P\\big(c_4~|~(c_2,~c_3)\\big)\\times P(c_2~|~c_1)\\times P(c_1)  \n",
    "\\label{eq:15}\\tag{15}\n",
    "\\end{align*}"
   ]
  },
  {
   "cell_type": "markdown",
   "id": "8fc9dd88-0693-4ecc-a160-39a61eca930a",
   "metadata": {},
   "source": [
    "If we generalize the expressions \\eqref{eq:14} and \\eqref{eq:15},\n",
    "\\begin{align*}\n",
    "P(c_1,~c_2,c_3,~c_4,\\cdots,~c_n) \\approx \\prod_{k=1}^{n}P(c_k~|~c_{k-N+1:k-1})\n",
    "\\label{eq:15} \\tag{16}\n",
    "\\end{align*}"
   ]
  },
  {
   "cell_type": "markdown",
   "id": "ba6f34db-7df8-42fb-9b8c-fd00caec6eaa",
   "metadata": {},
   "source": [
    "##### How to Estimate the Probabilities?\n",
    "Now, we've obtained a simpler and more computable version of the \\eqref{eq:8} in \\eqref{eq:15}. However, another issue still exists. How will we calculate the probabilities $P(c_k~|~c_{k-N+1:k-1}$ or $P\\big(c_k~|~(c_{k-2},~c_{k-1})\\big)$ for $N=2$?\n",
    "\n",
    "An intuitive way to estimate the probabilities is the *maximum likelihoode estimation (MLE)*. Accordingly, we can get the MLE estimates of the parameters if the $N$-gram model is the getting the counts from the corpus, and **normalizing** the counts so that they lie between $0$ and $1$. In other words, once normalized the counts could be used as the **probability distributions**."
   ]
  },
  {
   "cell_type": "code",
   "execution_count": null,
   "id": "2c37cbf2-3f16-452b-9f93-f0d7bd2b1dd4",
   "metadata": {},
   "outputs": [],
   "source": []
  }
 ],
 "metadata": {
  "kernelspec": {
   "display_name": "llm",
   "language": "python",
   "name": "llm"
  },
  "language_info": {
   "codemirror_mode": {
    "name": "ipython",
    "version": 3
   },
   "file_extension": ".py",
   "mimetype": "text/x-python",
   "name": "python",
   "nbconvert_exporter": "python",
   "pygments_lexer": "ipython3",
   "version": "3.10.4"
  }
 },
 "nbformat": 4,
 "nbformat_minor": 5
}
